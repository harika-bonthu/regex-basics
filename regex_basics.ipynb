{
 "cells": [
  {
   "cell_type": "markdown",
   "metadata": {},
   "source": [
    "# search()"
   ]
  },
  {
   "cell_type": "markdown",
   "metadata": {},
   "source": [
    "Check if the word 'Order' is present in the string 'Harry Potter and the Order of the Phoenix.'"
   ]
  },
  {
   "cell_type": "code",
   "execution_count": 109,
   "metadata": {},
   "outputs": [
    {
     "name": "stdout",
     "output_type": "stream",
     "text": [
      "21 26 Order\n"
     ]
    }
   ],
   "source": [
    "# import re module and define the regex pattern\n",
    "import re\n",
    "pattern = r'Order'\n",
    "# create a regex object\n",
    "regex_obj = re.compile(pattern, flags=re.I)\n",
    "# call the search() method on the regex object\n",
    "match_obj = regex_obj.search('Harry Potter and the Order of the Phoenix')\n",
    "print(match_obj.start(), match_obj.end(), match_obj.group(0))"
   ]
  },
  {
   "cell_type": "markdown",
   "metadata": {},
   "source": [
    "search() without re.compile()"
   ]
  },
  {
   "cell_type": "code",
   "execution_count": 110,
   "metadata": {},
   "outputs": [
    {
     "name": "stdout",
     "output_type": "stream",
     "text": [
      "21 26 Order\n"
     ]
    }
   ],
   "source": [
    "match_obj = re.search(r'Order', 'Harry Potter and the Order of the Phoenix')\n",
    "print(match_obj.start(), match_obj.end(), match_obj.group(0))"
   ]
  },
  {
   "cell_type": "markdown",
   "metadata": {},
   "source": [
    "# findall()"
   ]
  },
  {
   "cell_type": "markdown",
   "metadata": {},
   "source": [
    "obtain all occurrences of 'the' in 'Harry Potter and the Order of the Phoenix'"
   ]
  },
  {
   "cell_type": "code",
   "execution_count": 111,
   "metadata": {},
   "outputs": [
    {
     "data": {
      "text/plain": [
       "['the', 'the']"
      ]
     },
     "execution_count": 111,
     "metadata": {},
     "output_type": "execute_result"
    }
   ],
   "source": [
    "# import re module and define the regex pattern\n",
    "import re\n",
    "pattern = r'the'\n",
    "# create a regex object\n",
    "regex_obj = re.compile(pattern, flags=re.I)\n",
    "# call the findall() method on the regex object\n",
    "match_obj = regex_obj.findall('Harry Potter and the Order of the Phoenix')\n",
    "match_obj"
   ]
  },
  {
   "cell_type": "code",
   "execution_count": 112,
   "metadata": {},
   "outputs": [
    {
     "data": {
      "text/plain": [
       "['the', 'the']"
      ]
     },
     "execution_count": 112,
     "metadata": {},
     "output_type": "execute_result"
    }
   ],
   "source": [
    "match_obj = re.findall('the', 'Harry Potter and the Order of the Phoenix')\n",
    "match_obj"
   ]
  },
  {
   "cell_type": "markdown",
   "metadata": {},
   "source": [
    "# match()"
   ]
  },
  {
   "cell_type": "markdown",
   "metadata": {},
   "source": [
    "Check if the given word starts with a and ends with s"
   ]
  },
  {
   "cell_type": "code",
   "execution_count": 113,
   "metadata": {},
   "outputs": [
    {
     "name": "stdout",
     "output_type": "stream",
     "text": [
      "0 9 analytics\n"
     ]
    }
   ],
   "source": [
    "import re\n",
    "pattern = r'^a\\w*s$'\n",
    "regex_obj = re.compile(pattern)\n",
    "match_obj = regex_obj.match('analytics')\n",
    "print(match_obj.start(), match_obj.end(), match_obj.group(0))"
   ]
  },
  {
   "cell_type": "markdown",
   "metadata": {},
   "source": [
    "match() without re.compile()"
   ]
  },
  {
   "cell_type": "code",
   "execution_count": 114,
   "metadata": {},
   "outputs": [
    {
     "name": "stdout",
     "output_type": "stream",
     "text": [
      "0 9 analytics\n"
     ]
    }
   ],
   "source": [
    "match_obj = re.match(r'^a\\w*s$', 'analytics')\n",
    "print(match_obj.start(), match_obj.end(), match_obj.group(0))"
   ]
  },
  {
   "cell_type": "markdown",
   "metadata": {},
   "source": [
    "Transform"
   ]
  },
  {
   "cell_type": "markdown",
   "metadata": {},
   "source": [
    "# sub()"
   ]
  },
  {
   "cell_type": "markdown",
   "metadata": {},
   "source": [
    "Mask phone number"
   ]
  },
  {
   "cell_type": "code",
   "execution_count": 115,
   "metadata": {},
   "outputs": [
    {
     "data": {
      "text/plain": [
       "'My name is Harry, and you can contact me at (***) *** ****'"
      ]
     },
     "execution_count": 115,
     "metadata": {},
     "output_type": "execute_result"
    }
   ],
   "source": [
    "string = 'My name is Harry, and you can contact me at (805) 588 8745'\n",
    "masked_str = re.sub('\\d', '*', string)\n",
    "masked_str"
   ]
  },
  {
   "cell_type": "markdown",
   "metadata": {},
   "source": [
    "Mask only the first six digits"
   ]
  },
  {
   "cell_type": "code",
   "execution_count": 116,
   "metadata": {},
   "outputs": [
    {
     "data": {
      "text/plain": [
       "'My name is Harry, and you can contact me at (***) *** 8745'"
      ]
     },
     "execution_count": 116,
     "metadata": {},
     "output_type": "execute_result"
    }
   ],
   "source": [
    "string = 'My name is Harry, and you can contact me at (805) 588 8745'\n",
    "masked_str = re.sub('\\d', '*', string, count=6)\n",
    "masked_str"
   ]
  },
  {
   "cell_type": "markdown",
   "metadata": {},
   "source": [
    "replace all occurences of 'cat' with pet"
   ]
  },
  {
   "cell_type": "code",
   "execution_count": 117,
   "metadata": {},
   "outputs": [
    {
     "data": {
      "text/plain": [
       "'pets are cute. I play with my pet all time.'"
      ]
     },
     "execution_count": 117,
     "metadata": {},
     "output_type": "execute_result"
    }
   ],
   "source": [
    "string = 'Cats are cute. I play with my cat all time.'\n",
    "replaced_str = re.sub('cat', 'pet', string, flags=re.I)\n",
    "replaced_str"
   ]
  },
  {
   "cell_type": "markdown",
   "metadata": {},
   "source": [
    "replace all occurences of 'cat', 'dog' with pet"
   ]
  },
  {
   "cell_type": "code",
   "execution_count": 118,
   "metadata": {},
   "outputs": [
    {
     "data": {
      "text/plain": [
       "'pets are cute. I play with my pet all time.'"
      ]
     },
     "execution_count": 118,
     "metadata": {},
     "output_type": "execute_result"
    }
   ],
   "source": [
    "string = 'Cats are cute. I play with my dog all time.'\n",
    "replaced_str = re.sub('cat|dog', 'pet', string, flags=re.I)\n",
    "replaced_str"
   ]
  },
  {
   "cell_type": "markdown",
   "metadata": {},
   "source": [
    "# Address usecase"
   ]
  },
  {
   "cell_type": "code",
   "execution_count": 3,
   "metadata": {},
   "outputs": [],
   "source": [
    "addr_lst = [\n",
    "    '555 Wille Stargell Ave., Alameda, CA 94501',\n",
    "    '1210 N. Atlantic Blvd., Alhambra, CA 91810',\n",
    "    '600 S. Brookhurst, Anaheim, CA 92804',\n",
    "    '1075 W. I-20, Arlington, TX 76017'\n",
    "]"
   ]
  },
  {
   "cell_type": "code",
   "execution_count": 4,
   "metadata": {},
   "outputs": [],
   "source": [
    "# import re module\n",
    "import re"
   ]
  },
  {
   "cell_type": "code",
   "execution_count": 5,
   "metadata": {},
   "outputs": [],
   "source": [
    "# define address pattern as raw string\n",
    "addr_pattern = r'([0-9]+)\\s*([a-z\\.\\-\\s0-9]+)\\.?\\,?\\s*([a-z]+)\\,?\\s*([a-z]{2})\\s*([0-9]+)'"
   ]
  },
  {
   "cell_type": "code",
   "execution_count": 6,
   "metadata": {},
   "outputs": [],
   "source": [
    "# create regex object\n",
    "addr_regex_obj = re.compile(addr_pattern, flags=re.I)"
   ]
  },
  {
   "cell_type": "code",
   "execution_count": 21,
   "metadata": {},
   "outputs": [
    {
     "name": "stdout",
     "output_type": "stream",
     "text": [
      "555 Wille Stargell Ave., Alameda, CA 94501  --->   ('555', 'Wille Stargell Ave.', 'Alameda', 'CA', '94501')\n",
      "1210 N. Atlantic Blvd., Alhambra, CA 91810  --->   ('1210', 'N. Atlantic Blvd.', 'Alhambra', 'CA', '91810')\n",
      "600 S. Brookhurst, Anaheim, CA 92804  --->   ('600', 'S. Brookhurst', 'Anaheim', 'CA', '92804')\n",
      "1075 W. I-20, Arlington, TX 76017  --->   ('1075', 'W. I-20', 'Arlington', 'TX', '76017')\n"
     ]
    }
   ],
   "source": [
    "for addr in addr_lst:\n",
    "    # call .match() method on regex object\n",
    "    match = addr_regex_obj.match(addr)\n",
    "    # call .groups() method on the regex match object\n",
    "    print(addr, ' --->  ' , match.groups())"
   ]
  },
  {
   "cell_type": "code",
   "execution_count": 8,
   "metadata": {},
   "outputs": [
    {
     "name": "stdout",
     "output_type": "stream",
     "text": [
      "555 Wille Stargell Ave., Alameda, CA 94501     ('555', 'Wille Stargell Ave.', 'Alameda', 'CA', '94501')\n",
      "1210 N. Atlantic Blvd., Alhambra, CA 91810     ('1210', 'N. Atlantic Blvd.', 'Alhambra', 'CA', '91810')\n",
      "600 S. Brookhurst, Anaheim, CA 92804     ('600', 'S. Brookhurst', 'Anaheim', 'CA', '92804')\n",
      "1075 W. I-20, Arlington, TX 76017     ('1075', 'W. I-20', 'Arlington', 'TX', '76017')\n"
     ]
    }
   ],
   "source": [
    "import re\n",
    "addr_pattern = r'(\\d+)\\s*([\\w\\.\\-\\s]+)\\.?\\,?\\s*(\\w+)\\,?\\s*(\\w{2})\\s*(\\d+)'\n",
    "addr_regex_obj = re.compile(addr_pattern, flags=re.I)\n",
    "for addr in addr_lst:\n",
    "    match = addr_regex_obj.match(addr)\n",
    "    print(addr, '   ' , match.groups())"
   ]
  },
  {
   "cell_type": "code",
   "execution_count": 9,
   "metadata": {},
   "outputs": [],
   "source": [
    "addr_pattern_wth_grpnames  = r'(?P<apartment_num>\\d+)\\s*(?P<street>[a-z\\.\\-\\s\\d]+)\\.?\\,?\\s*(?P<city>[a-z]+)\\,?\\s*(?P<state>[a-z]{2})\\s*(?P<zipcode>\\d+)'"
   ]
  },
  {
   "cell_type": "code",
   "execution_count": 10,
   "metadata": {},
   "outputs": [],
   "source": [
    "regexobject = re.compile(addr_pattern_wth_grpnames, flags=re.I)"
   ]
  },
  {
   "cell_type": "code",
   "execution_count": 11,
   "metadata": {},
   "outputs": [],
   "source": [
    "matches = regexobject.match(addr_lst[1])"
   ]
  },
  {
   "cell_type": "code",
   "execution_count": 12,
   "metadata": {},
   "outputs": [
    {
     "data": {
      "text/plain": [
       "<re.Match object; span=(0, 42), match='1210 N. Atlantic Blvd., Alhambra, CA 91810'>"
      ]
     },
     "execution_count": 12,
     "metadata": {},
     "output_type": "execute_result"
    }
   ],
   "source": [
    "matches"
   ]
  },
  {
   "cell_type": "code",
   "execution_count": 13,
   "metadata": {},
   "outputs": [
    {
     "data": {
      "text/plain": [
       "'N. Atlantic Blvd.'"
      ]
     },
     "execution_count": 13,
     "metadata": {},
     "output_type": "execute_result"
    }
   ],
   "source": [
    "matches.group('street')"
   ]
  },
  {
   "cell_type": "code",
   "execution_count": 23,
   "metadata": {},
   "outputs": [
    {
     "name": "stdout",
     "output_type": "stream",
     "text": [
      "555 Wille Stargell Ave., Alameda, CA 94501  --->   ('555', 'Wille Stargell Ave.', 'Alameda', 'CA', '94501')  --->  Wille Stargell Ave.\n",
      "1210 N. Atlantic Blvd., Alhambra, CA 91810  --->   ('1210', 'N. Atlantic Blvd.', 'Alhambra', 'CA', '91810')  --->  N. Atlantic Blvd.\n",
      "600 S. Brookhurst, Anaheim, CA 92804  --->   ('600', 'S. Brookhurst', 'Anaheim', 'CA', '92804')  --->  S. Brookhurst\n",
      "1075 W. I-20, Arlington, TX 76017  --->   ('1075', 'W. I-20', 'Arlington', 'TX', '76017')  --->  W. I-20\n"
     ]
    }
   ],
   "source": [
    "addr_lst = [\n",
    "    '555 Wille Stargell Ave., Alameda, CA 94501',\n",
    "    '1210 N. Atlantic Blvd., Alhambra, CA 91810',\n",
    "    '600 S. Brookhurst, Anaheim, CA 92804',\n",
    "    '1075 W. I-20, Arlington, TX 76017'\n",
    "]\n",
    "\n",
    "import re\n",
    "addr_pattern_wth_grpnames = r'(?P<apartment_num>\\d+)\\s*(?P<street>[a-z\\.\\-\\s\\d]+)\\.?\\,?\\s*(?P<city>[a-z]+)\\,?\\s*(?P<state>[a-z]{2})\\s*(?P<zipcode>\\d+)'\n",
    "addr_regex_obj = re.compile(addr_pattern_wth_grpnames, flags=re.I)\n",
    "for addr in addr_lst:\n",
    "    match = addr_regex_obj.match(addr)\n",
    "    print(addr, ' --->  ' , match.groups(), ' ---> ', match.group('street'))"
   ]
  },
  {
   "cell_type": "code",
   "execution_count": null,
   "metadata": {},
   "outputs": [],
   "source": []
  },
  {
   "cell_type": "code",
   "execution_count": null,
   "metadata": {},
   "outputs": [],
   "source": []
  }
 ],
 "metadata": {
  "kernelspec": {
   "display_name": "Python 3",
   "language": "python",
   "name": "python3"
  },
  "language_info": {
   "codemirror_mode": {
    "name": "ipython",
    "version": 3
   },
   "file_extension": ".py",
   "mimetype": "text/x-python",
   "name": "python",
   "nbconvert_exporter": "python",
   "pygments_lexer": "ipython3",
   "version": "3.7.6"
  }
 },
 "nbformat": 4,
 "nbformat_minor": 4
}
